{
 "cells": [
  {
   "cell_type": "markdown",
   "metadata": {},
   "source": [
    "## Data Preprocessing"
   ]
  },
  {
   "cell_type": "code",
   "execution_count": 8,
   "metadata": {},
   "outputs": [],
   "source": [
    "from pyspark.sql import SparkSession\n",
    "from pyspark.ml.feature import StringIndexer, VectorAssembler\n",
    "from pyspark.sql.functions import when\n",
    "\n",
    "spark = SparkSession.builder \\\n",
    "    .appName(\"TFT Analysis\") \\\n",
    "    .getOrCreate()\n",
    "tft_data = spark.read.csv(\"hdfs://namenode:9000/challenger.csv\", header=True, inferSchema=True)\n",
    "# tft_data.printSchema()\\\n",
    "# tft_data.count()"
   ]
  },
  {
   "cell_type": "code",
   "execution_count": 9,
   "metadata": {},
   "outputs": [
    {
     "data": {
      "text/plain": [
       "8424"
      ]
     },
     "execution_count": 9,
     "metadata": {},
     "output_type": "execute_result"
    }
   ],
   "source": [
    "# remove rows that have 'partner_group_id' != null\n",
    "# This is because we are only interested in solo games, not duo games\n",
    "tft_data = tft_data.filter(tft_data.partner_group_id.isNull())\n",
    "# tft_data.count()\n",
    "# remove duplicate rows - people might face against each other which might cause duplicate rows\n",
    "tft_data = tft_data.dropDuplicates()\n",
    "tft_data.count()"
   ]
  },
  {
   "cell_type": "code",
   "execution_count": 10,
   "metadata": {},
   "outputs": [],
   "source": [
    "# Select relevant columns for analysis\n",
    "selected_columns = ['gold_left', 'last_round', 'level', 'augments_0', 'augments_1', 'augments_2']\n",
    "\n",
    "# drop rows with all null values\n",
    "tft_data_filtered = tft_data.select(*selected_columns).dropna()\n"
   ]
  },
  {
   "cell_type": "code",
   "execution_count": 11,
   "metadata": {},
   "outputs": [],
   "source": [
    "# Index categorical augment columns\n",
    "indexers = [StringIndexer(inputCol=col, outputCol=f\"{col}_index\") for col in ['augments_0', 'augments_1', 'augments_2']]\n",
    "for indexer in indexers:\n",
    "    tft_data_filtered = indexer.fit(tft_data_filtered).transform(tft_data_filtered)\n",
    "\n",
    "# Assemble features for ML\n",
    "assembler = VectorAssembler(inputCols=['gold_left', 'last_round', 'level', 'augments_0_index', 'augments_1_index', 'augments_2_index'], \n",
    "                            outputCol='features')\n",
    "tft_data_final = assembler.transform(tft_data_filtered)\n",
    "\n",
    "# Create binary label for classification based on 'last_round'\n",
    "tft_data_final = tft_data_final.withColumn('label', when(tft_data_final.last_round >= 30, 1).otherwise(0))\n"
   ]
  },
  {
   "cell_type": "code",
   "execution_count": 12,
   "metadata": {},
   "outputs": [],
   "source": [
    "# Split data into training and testing sets\n",
    "(train_data, test_data) = tft_data_final.randomSplit([0.7, 0.3])\n"
   ]
  },
  {
   "cell_type": "markdown",
   "metadata": {},
   "source": [
    "### Decision Tree vs Logistic Regression"
   ]
  },
  {
   "cell_type": "code",
   "execution_count": 13,
   "metadata": {},
   "outputs": [
    {
     "name": "stdout",
     "output_type": "stream",
     "text": [
      "Decision Tree Test Accuracy: 1.0\n",
      "Logistic Regression Test Accuracy: 1.0\n"
     ]
    }
   ],
   "source": [
    "from pyspark.ml.classification import DecisionTreeClassifier, LogisticRegression\n",
    "from pyspark.ml.evaluation import MulticlassClassificationEvaluator\n",
    "\n",
    "# 1. Decision Tree Classifier\n",
    "dt = DecisionTreeClassifier(featuresCol='features', labelCol='label', maxBins=300)\n",
    "dt_model = dt.fit(train_data)\n",
    "dt_predictions = dt_model.transform(test_data)\n",
    "\n",
    "# Evaluate Decision Tree\n",
    "dt_evaluator = MulticlassClassificationEvaluator(labelCol='label', predictionCol='prediction', metricName='accuracy')\n",
    "dt_accuracy = dt_evaluator.evaluate(dt_predictions)\n",
    "print(f\"Decision Tree Test Accuracy: {dt_accuracy}\")\n",
    "\n",
    "# 2. Logistic Regression\n",
    "lr = LogisticRegression(featuresCol='features', labelCol='label')\n",
    "lr_model = lr.fit(train_data)\n",
    "lr_predictions = lr_model.transform(test_data)\n",
    "\n",
    "# Evaluate Logistic Regression\n",
    "lr_accuracy = dt_evaluator.evaluate(lr_predictions)\n",
    "print(f\"Logistic Regression Test Accuracy: {lr_accuracy}\")\n"
   ]
  },
  {
   "cell_type": "markdown",
   "metadata": {},
   "source": [
    "We got test accuracy 1 for both Decision Tree and Logistic Regression. This most likely means there is not enough data to train the model, hence it is overfitting."
   ]
  },
  {
   "cell_type": "code",
   "execution_count": 14,
   "metadata": {},
   "outputs": [
    {
     "name": "stdout",
     "output_type": "stream",
     "text": [
      "Linear Regression Test RMSE: 9.140771069480022e-14\n"
     ]
    }
   ],
   "source": [
    "from pyspark.ml.regression import LinearRegression\n",
    "from pyspark.ml.evaluation import RegressionEvaluator\n",
    "\n",
    "# Linear Regression for last_round prediction\n",
    "lr_regression = LinearRegression(featuresCol='features', labelCol='last_round')\n",
    "lr_reg_model = lr_regression.fit(train_data)\n",
    "lr_reg_predictions = lr_reg_model.transform(test_data)\n",
    "\n",
    "# Evaluate Linear Regression with RMSE\n",
    "reg_evaluator = RegressionEvaluator(labelCol=\"last_round\", predictionCol=\"prediction\", metricName=\"rmse\")\n",
    "lr_reg_rmse = reg_evaluator.evaluate(lr_reg_predictions)\n",
    "print(f\"Linear Regression Test RMSE: {lr_reg_rmse}\")\n"
   ]
  },
  {
   "cell_type": "markdown",
   "metadata": {},
   "source": [
    "Again, probably means that the model is overfitting."
   ]
  },
  {
   "cell_type": "code",
   "execution_count": 49,
   "metadata": {},
   "outputs": [],
   "source": [
    "from pyspark.sql.functions import array\n",
    "from pyspark.ml.fpm import FPGrowth\n",
    "\n",
    "# Combine the augment columns into an array (list) for FP-Growth\n",
    "tft_data_filtered = tft_data_filtered.withColumn(\"augments\", array('augments_0', 'augments_1', 'augments_2'))\n",
    "\n",
    "# FP-Growth for association rule mining with the new augments array column\n",
    "fpGrowth = FPGrowth(itemsCol=\"augments\", minSupport=0.01, minConfidence=0.1)\n",
    "model = fpGrowth.fit(tft_data_filtered)"
   ]
  },
  {
   "cell_type": "code",
   "execution_count": 50,
   "metadata": {},
   "outputs": [
    {
     "name": "stdout",
     "output_type": "stream",
     "text": [
      "+-----+----------+-----+\n",
      "|label|prediction|count|\n",
      "+-----+----------+-----+\n",
      "|    0|       0.0|  706|\n",
      "|    1|       1.0| 1714|\n",
      "+-----+----------+-----+\n",
      "\n"
     ]
    }
   ],
   "source": [
    "# Confusion Matrix for Decision Tree Predictions\n",
    "dt_confusion_matrix = dt_predictions.groupBy('label', 'prediction').count()\n",
    "dt_confusion_matrix.show()\n"
   ]
  },
  {
   "cell_type": "markdown",
   "metadata": {},
   "source": [
    "This shows 100% accuracy on the test set, which probably means that the model is overfitting."
   ]
  },
  {
   "cell_type": "code",
   "execution_count": 25,
   "metadata": {},
   "outputs": [
    {
     "data": {
      "image/png": "[encoded data removed]",
      "text/plain": [
       "<Figure size 576x432 with 1 Axes>"
      ]
     },
     "metadata": {
      "needs_background": "light"
     },
     "output_type": "display_data"
    }
   ],
   "source": [
    "import matplotlib.pyplot as plt\n",
    "\n",
    "# Example accuracies of different models\n",
    "models = ['Decision Tree', 'Logistic Regression']\n",
    "accuracies = [dt_accuracy, lr_accuracy]  # Replace with your actual accuracy variables\n",
    "\n",
    "# Create a bar chart\n",
    "plt.figure(figsize=(8, 6))\n",
    "plt.bar(models, accuracies, color=['blue', 'green'])\n",
    "plt.xlabel('Models')\n",
    "plt.ylabel('Accuracy')\n",
    "plt.title('Model Accuracy Comparison')\n",
    "plt.ylim(0, 1)  # Accuracy is between 0 and 1\n",
    "plt.show()\n"
   ]
  },
  {
   "cell_type": "markdown",
   "metadata": {},
   "source": [
    "This is kinda useless ^"
   ]
  },
  {
   "cell_type": "code",
   "execution_count": 45,
   "metadata": {},
   "outputs": [
    {
     "data": {
      "image/png": "[encoded data removed]",
      "text/plain": [
       "<Figure size 720x432 with 1 Axes>"
      ]
     },
     "metadata": {
      "needs_background": "light"
     },
     "output_type": "display_data"
    }
   ],
   "source": [
    "from pyspark.sql import functions as F\n",
    "from pyspark.sql import SparkSession\n",
    "\n",
    "# Assuming SparkSession is already created\n",
    "# spark = SparkSession.builder.appName(\"YourAppName\").getOrCreate()\n",
    "\n",
    "# Filter for placements 1 to 4\n",
    "winning_data = tft_data.filter(tft_data.placement.isin([1, 2, 3, 4]))\n",
    "\n",
    "# Collect augments into a single column for easier processing\n",
    "winning_augments = winning_data.select(\n",
    "    F.expr(\"stack(3, augments_0, augments_1, augments_2) as augments\")  # Unpivot the augments columns\n",
    ").filter(F.col('augments').isNotNull())  # Remove null values\n",
    "\n",
    "# Split augment names to keep only the 'AugmentName'\n",
    "winning_augments = winning_augments.withColumn(\n",
    "    'augments',\n",
    "    F.split(winning_augments.augments, '_')[2]  # Get the 3rd part after splitting by '_'\n",
    ")\n",
    "\n",
    "# Count occurrences of each augment\n",
    "augment_counts = winning_augments.groupBy('augments').count().orderBy('count', ascending=False).limit(10)\n",
    "\n",
    "# Convert to Pandas DataFrame for visualization\n",
    "augment_counts_df = augment_counts.toPandas()\n",
    "\n",
    "# Plotting\n",
    "plt.figure(figsize=(10, 6))\n",
    "plt.barh(augment_counts_df['augments'], augment_counts_df['count'], color='green')\n",
    "plt.xlabel('Frequency of Wins')\n",
    "plt.ylabel('Augments')\n",
    "plt.title('Top 10 Augments for Winning Placements (1-4)')\n",
    "plt.gca().invert_yaxis()  # To show the largest counts at the top\n",
    "plt.show()\n"
   ]
  },
  {
   "cell_type": "code",
   "execution_count": 37,
   "metadata": {},
   "outputs": [
    {
     "data": {
      "image/png": "[encoded data removed]",
      "text/plain": [
       "<Figure size 720x432 with 1 Axes>"
      ]
     },
     "metadata": {
      "needs_background": "light"
     },
     "output_type": "display_data"
    }
   ],
   "source": [
    "import matplotlib.pyplot as plt\n",
    "\n",
    "# Assuming `freqItemsets` has the frequent itemsets and their counts\n",
    "freq_itemsets_df = model.freqItemsets.toPandas()\n",
    "\n",
    "# Sort by frequency and select the top 10 most frequent itemsets\n",
    "top_itemsets = freq_itemsets_df.sort_values(by='freq', ascending=False).head(10)\n",
    "\n",
    "# Plot the itemsets\n",
    "plt.figure(figsize=(10, 6))\n",
    "# map the items to a string for better visualization, extracting only the AugmentName\n",
    "plt.barh(top_itemsets['items'].apply(lambda x: ', '.join(item.split('_')[-1] for item in x)), top_itemsets['freq'], color='purple')\n",
    "plt.xlabel('Frequency')\n",
    "plt.ylabel('Augments')\n",
    "plt.title('Top 10 Frequent Augments')\n",
    "plt.gca().invert_yaxis()  # show largest at top\n",
    "plt.show()\n"
   ]
  },
  {
   "cell_type": "code",
   "execution_count": 29,
   "metadata": {},
   "outputs": [
    {
     "name": "stdout",
     "output_type": "stream",
     "text": [
      "Requirement already satisfied: scikit-learn in /opt/conda/lib/python3.8/site-packages (0.23.2)\n",
      "Requirement already satisfied: joblib>=0.11 in /opt/conda/lib/python3.8/site-packages (from scikit-learn) (0.17.0)\n",
      "Requirement already satisfied: numpy>=1.13.3 in /opt/conda/lib/python3.8/site-packages (from scikit-learn) (1.19.4)\n",
      "Requirement already satisfied: scipy>=0.19.1 in /opt/conda/lib/python3.8/site-packages (from scikit-learn) (1.5.3)\n",
      "Requirement already satisfied: threadpoolctl>=2.0.0 in /opt/conda/lib/python3.8/site-packages (from scikit-learn) (2.1.0)\n"
     ]
    }
   ],
   "source": [
    "%pip install scikit-learn\n"
   ]
  },
  {
   "cell_type": "code",
   "execution_count": 33,
   "metadata": {},
   "outputs": [
    {
     "name": "stdout",
     "output_type": "stream",
     "text": [
      "Length of y_true: 2420\n",
      "Length of y_prob: 2528\n"
     ]
    },
    {
     "data": {
      "image/png": "[encoded data removed]",
      "text/plain": [
       "<Figure size 576x432 with 1 Axes>"
      ]
     },
     "metadata": {
      "needs_background": "light"
     },
     "output_type": "display_data"
    }
   ],
   "source": [
    "import numpy as np\n",
    "import matplotlib.pyplot as plt\n",
    "from pyspark.ml.evaluation import BinaryClassificationEvaluator\n",
    "from sklearn.metrics import roc_curve\n",
    "\n",
    "# Collect the probability predictions from the predictions DataFrame\n",
    "y_prob = predictions.select('probability').collect()  # Get the predicted probabilities\n",
    "y_true = test_data.select('label').collect()          # Get the true labels\n",
    "\n",
    "# Convert the collected data to usable formats\n",
    "y_true = np.array([int(row['label']) for row in y_true])\n",
    "y_prob = np.array([row['probability'][1] for row in y_prob])  # Get the probability of class 1\n",
    "\n",
    "# Check lengths of y_true and y_prob\n",
    "print(f\"Length of y_true: {len(y_true)}\")\n",
    "print(f\"Length of y_prob: {len(y_prob)}\")\n",
    "\n",
    "# Trim the longer array to match the shorter one\n",
    "if len(y_true) > len(y_prob):\n",
    "    y_true = y_true[:len(y_prob)]\n",
    "else:\n",
    "    y_prob = y_prob[:len(y_true)]\n",
    "\n",
    "\n",
    "# Generate ROC curve data\n",
    "fpr, tpr, thresholds = roc_curve(y_true, y_prob)\n",
    "\n",
    "# Plot ROC curve\n",
    "plt.figure(figsize=(8, 6))\n",
    "plt.plot(fpr, tpr, color='blue', label='ROC Curve (area = {:.2f})'.format(np.trapz(tpr, fpr)))\n",
    "plt.plot([0, 1], [0, 1], color='red', linestyle='--')  # Baseline (random classifier)\n",
    "plt.xlabel('False Positive Rate')\n",
    "plt.ylabel('True Positive Rate (Recall)')\n",
    "plt.title('ROC Curve')\n",
    "plt.legend(loc=\"lower right\")\n",
    "plt.grid(True)\n",
    "plt.show()\n"
   ]
  },
  {
   "cell_type": "markdown",
   "metadata": {},
   "source": [
    "Currently the ROC curve area is 0.46 < 0.5, which means the model is worse than random guessing. This is probably because the model is overfitting."
   ]
  }
 ],
 "metadata": {
  "kernelspec": {
   "display_name": "Python 3",
   "language": "python",
   "name": "python3"
  },
  "language_info": {
   "codemirror_mode": {
    "name": "ipython",
    "version": 3
   },
   "file_extension": ".py",
   "mimetype": "text/x-python",
   "name": "python",
   "nbconvert_exporter": "python",
   "pygments_lexer": "ipython3",
   "version": "3.8.6"
  }
 },
 "nbformat": 4,
 "nbformat_minor": 4
}
